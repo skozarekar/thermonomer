{
 "cells": [
  {
   "cell_type": "markdown",
   "metadata": {},
   "source": [
    "# Walkthrough "
   ]
  },
  {
   "cell_type": "markdown",
   "metadata": {},
   "source": [
    "This notebook will provide examples on how to use the .py file functions and classes in this repository. "
   ]
  },
  {
   "cell_type": "code",
   "execution_count": 1,
   "metadata": {},
   "outputs": [],
   "source": [
    "# How to handle: KeyError: \"column_name\"\n",
    "# If any of the functions don't seem to be working, make sure that your pandas df is indexed. If it is not, use the below code: \n",
    "\n",
    "import pandas as pd\n",
    "\n",
    "def indexDf(infile_path):\n",
    "    # Read the CSV file\n",
    "    df = pd.read_csv(infile_path)\n",
    "\n",
    "    # Add an index column\n",
    "    df_reset = df.reset_index()\n",
    "\n",
    "    # Save the DataFrame to a new CSV file\n",
    "    df_reset.to_csv(infile_path, index=False)\n",
    "\n",
    "# infile_path = \"data archive/dielectric.csv\"\n",
    "# indexDf(infile_path)"
   ]
  },
  {
   "cell_type": "markdown",
   "metadata": {},
   "source": [
    "## How to use Solvents.py"
   ]
  },
  {
   "cell_type": "code",
   "execution_count": null,
   "metadata": {},
   "outputs": [],
   "source": [
    "from Solvents import SolventData"
   ]
  },
  {
   "cell_type": "markdown",
   "metadata": {},
   "source": [
    "Say you want to find a solvent's experimental data (ex. o-dichlorbenzene):"
   ]
  },
  {
   "cell_type": "code",
   "execution_count": null,
   "metadata": {},
   "outputs": [],
   "source": [
    "dielectric_path = \"data archive/dielectric.csv\"\n",
    "solvent_data = SolventData(dielectric_path)\n",
    "odichlorbenzene_dict = solvent_data.getSolventData(\"1,2-Dichlorobenzene\")\n",
    "print(odichlorbenzene_dict)"
   ]
  },
  {
   "cell_type": "markdown",
   "metadata": {},
   "source": [
    "Say you want to update the solvent archive file with new experimental solvent data:"
   ]
  },
  {
   "cell_type": "code",
   "execution_count": null,
   "metadata": {},
   "outputs": [],
   "source": [
    "# The input file must have a column called \"Solvent\" that holds the solvent's name. \n",
    "# Solvents with experimental data can be present, the function will only update rows with missing experimental data\n",
    "dielectric_path = \"data archive/dielectric.csv\"\n",
    "solvent_archive_path = \"data archive/solvents_archive.csv\"\n",
    "\n",
    "# Uncomment below line if .csv is not indexed\n",
    "# indexDf(solvent_archive_path)\n",
    "\n",
    "solvent_data = SolventData(dielectric_path)\n",
    "solvent_data.main(solvent_archive_path)"
   ]
  },
  {
   "cell_type": "markdown",
   "metadata": {},
   "source": [
    "## How to use Featurize.py"
   ]
  },
  {
   "cell_type": "code",
   "execution_count": 2,
   "metadata": {},
   "outputs": [],
   "source": [
    "import Featurize"
   ]
  },
  {
   "cell_type": "markdown",
   "metadata": {},
   "source": [
    "Say you want experimental data on a solvent, dioxane: "
   ]
  },
  {
   "cell_type": "code",
   "execution_count": null,
   "metadata": {},
   "outputs": [],
   "source": [
    "solvent_name = \"dioxane\"\n",
    "experimental_solvent = Featurize.getExperimentalSolvent(solvent_name)\n",
    "print(experimental_solvent)\n",
    "\n",
    "# Get a specific value in the dictionary:\n",
    "solvent_smiles = experimental_solvent[\"Solvent_SMILES\"]\n",
    "print(f\"solvent smiles: {solvent_smiles}\")"
   ]
  },
  {
   "cell_type": "markdown",
   "metadata": {},
   "source": [
    "A few examples on how you would use individual feature functions:"
   ]
  },
  {
   "cell_type": "code",
   "execution_count": null,
   "metadata": {},
   "outputs": [],
   "source": [
    "# Example monomer: L-Lactide\n",
    "# define parameters that will be passed into functions\n",
    "canonical_monomer_smiles = \"C[C@@H]1OC(=O)[C@H](C)OC1=O\"\n",
    "dp = 5\n",
    "solvent_smiles = \"C1COCCO1\"\n",
    "monomer_base_state = \"s\"\n",
    "polymerization_type = \"ROP\""
   ]
  },
  {
   "cell_type": "code",
   "execution_count": null,
   "metadata": {},
   "outputs": [],
   "source": [
    "rdkit_features = Featurize.getRdkitDescriptors(canonical_monomer_smiles)\n",
    "print(f\"RDKIT features: {rdkit_features}\")\n",
    "pep = Featurize.getPEP(canonical_monomer_smiles, polymerization_type,dp)\n",
    "print(f\"Enthalpy PEP Feature: {pep}\")\n",
    "solvent_features = Featurize.getSolventFeatures(canonical_monomer_smiles, monomer_base_state, solvent_smiles)\n",
    "print(f\"Solvent features: {solvent_features}\")"
   ]
  },
  {
   "cell_type": "markdown",
   "metadata": {},
   "source": [
    "## Create a .csv with all feature data given you have a .csv with monomer strings"
   ]
  },
  {
   "cell_type": "code",
   "execution_count": 3,
   "metadata": {},
   "outputs": [],
   "source": [
    "import Featurize"
   ]
  },
  {
   "cell_type": "code",
   "execution_count": null,
   "metadata": {},
   "outputs": [],
   "source": [
    "# path to .csv file will monomer data that you want to featurize\n",
    "infile_path = \"monomer data build/entropy.csv\"\n",
    "\n",
    "# target is dS (J/mol/K) or dH (KJ/mol)\n",
    "target = \"dS (J/mol/K)\"\n",
    "\n",
    "# choose a degree of polymerization\n",
    "dp = 5\n",
    "\n",
    "Featurize.main(infile_path, target, dp)"
   ]
  },
  {
   "cell_type": "markdown",
   "metadata": {},
   "source": [
    "## How to use Polymerize.py"
   ]
  },
  {
   "cell_type": "code",
   "execution_count": null,
   "metadata": {},
   "outputs": [],
   "source": [
    "from Polymerize import Polymerization"
   ]
  },
  {
   "cell_type": "markdown",
   "metadata": {},
   "source": [
    "Say you want to polymerize a monomer (ex. L-Lactide):"
   ]
  },
  {
   "cell_type": "code",
   "execution_count": null,
   "metadata": {},
   "outputs": [],
   "source": [
    "# Define parameters\n",
    "canonical_monomer_smiles = \"C[C@@H]1OC(=O)[C@H](C)OC1=O\"\n",
    "polymerization_type = \"ROP\"\n",
    "dp = 5"
   ]
  },
  {
   "cell_type": "code",
   "execution_count": null,
   "metadata": {},
   "outputs": [],
   "source": [
    "# create an object of the class\n",
    "polymerize_obj = Polymerization(canonical_monomer_smiles, polymerization_type,dp)\n",
    "\n",
    "polymer_dict = polymerize_obj.main()\n",
    "print(polymer_dict)"
   ]
  },
  {
   "cell_type": "markdown",
   "metadata": {},
   "source": [
    "## How to use PreprocessData.py"
   ]
  },
  {
   "cell_type": "code",
   "execution_count": null,
   "metadata": {},
   "outputs": [],
   "source": [
    "import PreprocessData"
   ]
  },
  {
   "cell_type": "code",
   "execution_count": null,
   "metadata": {},
   "outputs": [],
   "source": [
    "# path to .csv file with monomer feature data\n",
    "infile_path = \"monomer data build/featurized_entropy.csv\""
   ]
  },
  {
   "cell_type": "markdown",
   "metadata": {},
   "source": [
    "Impute, one-hot encode and clean RDKIT columns all at once:"
   ]
  },
  {
   "cell_type": "code",
   "execution_count": null,
   "metadata": {},
   "outputs": [],
   "source": [
    "PreprocessData.main(infile_path)"
   ]
  },
  {
   "cell_type": "markdown",
   "metadata": {},
   "source": [
    "Alternatively, you can do each preprocessing step individually:"
   ]
  },
  {
   "cell_type": "code",
   "execution_count": null,
   "metadata": {},
   "outputs": [],
   "source": [
    "imputed_path = PreprocessData.impute(infile_path)\n",
    "\n",
    "imputed_and_one_hot_encoded_path = PreprocessData.oneHotEncode(imputed_path)\n",
    "\n",
    "completed_preprocess_path = PreprocessData.cleanRDKIT(imputed_and_one_hot_encoded_path)"
   ]
  },
  {
   "cell_type": "markdown",
   "metadata": {},
   "source": [
    "## How to use Models.py"
   ]
  },
  {
   "cell_type": "code",
   "execution_count": null,
   "metadata": {},
   "outputs": [],
   "source": [
    "import Models"
   ]
  },
  {
   "cell_type": "code",
   "execution_count": null,
   "metadata": {},
   "outputs": [],
   "source": [
    "infile_path = \"/Users/hunter/Downloads/BROADBELT LAB/thermonomer-1/monomer data build/cleaned_encoded_imputed_featurized_entropy.csv\"\n",
    "n_iters = 200\n",
    "target = \"dS (J/mol/K)\"\n",
    "\n",
    "Models.main(infile_path, n_iters, target, get_hyperparams = True, get_models = True, XGB_only = False, bayes=True)"
   ]
  },
  {
   "cell_type": "markdown",
   "metadata": {},
   "source": [
    "## How to use Data.py"
   ]
  },
  {
   "cell_type": "code",
   "execution_count": null,
   "metadata": {},
   "outputs": [],
   "source": [
    "import Data"
   ]
  },
  {
   "cell_type": "code",
   "execution_count": null,
   "metadata": {},
   "outputs": [],
   "source": [
    "Data.summarizeTrainTestResults(\"/Users/hunter/Downloads/BROADBELT LAB/thermonomer-1/model_results\")"
   ]
  },
  {
   "cell_type": "code",
   "execution_count": null,
   "metadata": {},
   "outputs": [],
   "source": [
    "Data.summarizeLOOCVResults(\"/Users/hunter/Downloads/BROADBELT LAB/thermonomer-1/model_results_LOOCV\")"
   ]
  },
  {
   "cell_type": "code",
   "execution_count": null,
   "metadata": {},
   "outputs": [],
   "source": [
    "path = \"/Users/hunter/Downloads/BROADBELT LAB/thermonomer-1/model_results_LOOCV/XGB_LOOCV_4.csv\"\n",
    "Data.graphExpPred(path)"
   ]
  },
  {
   "cell_type": "code",
   "execution_count": null,
   "metadata": {},
   "outputs": [],
   "source": [
    "import Data\n",
    "path = \"/Users/hunter/Downloads/BROADBELT LAB/thermonomer-1/final_results/feature_ranking_2.csv\"\n",
    "num_feat = 15\n",
    "Data.graphFeatureRanking(path, num_feat)"
   ]
  },
  {
   "cell_type": "code",
   "execution_count": null,
   "metadata": {},
   "outputs": [],
   "source": []
  }
 ],
 "metadata": {
  "kernelspec": {
   "display_name": "Python 3",
   "language": "python",
   "name": "python3"
  },
  "language_info": {
   "codemirror_mode": {
    "name": "ipython",
    "version": 3
   },
   "file_extension": ".py",
   "mimetype": "text/x-python",
   "name": "python",
   "nbconvert_exporter": "python",
   "pygments_lexer": "ipython3",
   "version": "3.11.0"
  }
 },
 "nbformat": 4,
 "nbformat_minor": 2
}
