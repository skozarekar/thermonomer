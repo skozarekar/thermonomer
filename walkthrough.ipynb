{
 "cells": [
  {
   "cell_type": "markdown",
   "metadata": {},
   "source": [
    "# Walkthrough "
   ]
  },
  {
   "cell_type": "markdown",
   "metadata": {},
   "source": [
    "This notebook will provide examples on how to use the .py files and classes in this repository. The below variables are used throughout and do not change:"
   ]
  },
  {
   "cell_type": "code",
   "execution_count": 1,
   "metadata": {},
   "outputs": [],
   "source": [
    "# Path to folder with datasets (should end with something simlar to '/0_data_sets/')\n",
    "path = \"/Users/hunter/Downloads/BROADBELT LAB/TC_ML_forked/dH_prediction/0_data_sets/\"\n",
    "\n",
    "# Set max degree of polymerization\n",
    "dp = 5"
   ]
  },
  {
   "cell_type": "markdown",
   "metadata": {},
   "source": [
    "## Example on how to add featurize data"
   ]
  },
  {
   "cell_type": "code",
   "execution_count": null,
   "metadata": {},
   "outputs": [],
   "source": [
    "from Featurize import AddFeatures"
   ]
  },
  {
   "cell_type": "code",
   "execution_count": null,
   "metadata": {},
   "outputs": [],
   "source": [
    "# add the features\n",
    "featurize = AddFeatures(path,dp)\n",
    "featurize.main()"
   ]
  },
  {
   "cell_type": "markdown",
   "metadata": {},
   "source": [
    "## Example on how to add polymerization and solvent data to dataset"
   ]
  },
  {
   "cell_type": "code",
   "execution_count": 1,
   "metadata": {},
   "outputs": [],
   "source": [
    "from Polymerize import Polymerization"
   ]
  },
  {
   "cell_type": "code",
   "execution_count": 2,
   "metadata": {},
   "outputs": [
    {
     "name": "stdout",
     "output_type": "stream",
     "text": [
      "Polymerization mechanism misc not found for C=CC(=C)C.\n",
      "Polymerization mechanism misc not found for C=CC(=C)C.\n",
      "Polymerization mechanism misc not found for C=CC(=C)C.\n",
      "Polymerization mechanism misc not found for C=CC(=C)Cl.\n",
      "Polymerization mechanism misc not found for C=CC=C.\n",
      "Polymerization mechanism misc not found for C=CC=C.\n",
      "C=CCOCCOCCOCCOC(=O)NC1C(=O)SC1(C)C cannot be polymerized using ROP_N.\n",
      "Polymerization mechanism misc not found for c1cc[nH]c1.\n",
      "Polymerization mechanism ROP_N not found for CC(C)(C)OC(=O)N1CC2CC1C(=O)S2.\n",
      "Polymerization mechanism ROP_N not found for CC(C)(C)OC(=O)N1CCOC(=O)C1.\n",
      "Polymerization mechanism misc not found for CCCCC#Cc1cc(C=O)c(C=O)cc1C#CCCCC.\n",
      "Polymerization mechanism misc not found for CCCCCCCCN1C(=O)c2cc(C=O)c(C=O)cc2C1=O.\n",
      "Polymerization mechanism misc not found for CCCCN=C=O.\n",
      "CCOC(=O)C(C#N)c1ccc(C(C#N)C(=O)OCC)c2occc12 cannot be polymerized using ROMP.\n",
      "CN1[Si](C)(C)O[Si](C)(C)O[Si]1(C)C cannot be polymerized using cyclic.\n",
      "Polymerization mechanism misc not found for COC(=O)c1cc(C=O)c(C=O)cc1C(=O)OC.\n",
      "Polymerization mechanism cyclic not found for COC(=O)CCCCC1CCSS1.\n",
      "Polymerization mechanism misc not found for COC1CCCSc2ccc([N+](=O)[O-])cc2C1.\n",
      "Polymerization mechanism misc not found for O=Cc1c(F)c(F)c(F)c(F)c1C=O.\n",
      "Polymerization mechanism misc not found for O=Cc1ccccc1C=O.\n",
      "\n",
      "Polymerization Complete :)\n"
     ]
    }
   ],
   "source": [
    "# add the polymers and solvents to data\n",
    "polymerize_data = Polymerization(path, dp)\n",
    "polymerize_data.main()"
   ]
  }
 ],
 "metadata": {
  "kernelspec": {
   "display_name": "Python 3",
   "language": "python",
   "name": "python3"
  },
  "language_info": {
   "codemirror_mode": {
    "name": "ipython",
    "version": 3
   },
   "file_extension": ".py",
   "mimetype": "text/x-python",
   "name": "python",
   "nbconvert_exporter": "python",
   "pygments_lexer": "ipython3",
   "version": "3.11.0"
  }
 },
 "nbformat": 4,
 "nbformat_minor": 2
}
