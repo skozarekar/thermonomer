{
 "cells": [
  {
   "cell_type": "code",
   "execution_count": 1,
   "metadata": {},
   "outputs": [],
   "source": [
    "from rdkit import Chem\n",
    "from rdkit.Chem import rdChemReactions\n",
    "from rdkit.Chem.Draw import MolsToGridImage\n",
    "import pandas as pd"
   ]
  },
  {
   "cell_type": "code",
   "execution_count": 2,
   "metadata": {},
   "outputs": [],
   "source": [
    "from rdkit import rdBase\n",
    "blocker = rdBase.BlockLogs()"
   ]
  },
  {
   "cell_type": "markdown",
   "metadata": {},
   "source": [
    "### Read in test data"
   ]
  },
  {
   "cell_type": "code",
   "execution_count": 3,
   "metadata": {},
   "outputs": [],
   "source": [
    "test_data = pd.read_csv(\"test_polymerization.csv\", index_col=None)"
   ]
  },
  {
   "cell_type": "markdown",
   "metadata": {},
   "source": [
    "#### Do polymerizations"
   ]
  },
  {
   "cell_type": "code",
   "execution_count": 4,
   "metadata": {},
   "outputs": [],
   "source": [
    "from polymerize2 import get_polymer_list"
   ]
  },
  {
   "cell_type": "code",
   "execution_count": 5,
   "metadata": {},
   "outputs": [
    {
     "name": "stdout",
     "output_type": "stream",
     "text": [
      "CCOC(=O)C(C#N)c1ccc(C(C#N)C(=O)OCC)c2occc12,ROMP\n",
      "O=S1(=O)CCCO1,ROP\n",
      "O=S1SC2C3CCC(C3)C2S1,ROP\n"
     ]
    }
   ],
   "source": [
    "mol_lists = []\n",
    "\n",
    "for _, row in test_data.iterrows():\n",
    "    try:\n",
    "        mol_list, SMILES = get_polymer_list(degree_of_polymerization=3, monomer_SMILES=row['Canonical SMILES'], polymerization_type=row['BASE_Category'], end_group=\"C\")\n",
    "        mol_lists.append(mol_list)\n",
    "    except:\n",
    "        print(f\"{row[\"Canonical SMILES\"]},{row['BASE_Category']}\")\n",
    "        mol_lists.append([])\n",
    "test_data['Mols'] = mol_lists"
   ]
  },
  {
   "cell_type": "code",
   "execution_count": null,
   "metadata": {},
   "outputs": [],
   "source": []
  }
 ],
 "metadata": {
  "kernelspec": {
   "display_name": "polyenv",
   "language": "python",
   "name": "python3"
  },
  "language_info": {
   "codemirror_mode": {
    "name": "ipython",
    "version": 3
   },
   "file_extension": ".py",
   "mimetype": "text/x-python",
   "name": "python",
   "nbconvert_exporter": "python",
   "pygments_lexer": "ipython3",
   "version": "3.12.0"
  }
 },
 "nbformat": 4,
 "nbformat_minor": 2
}
