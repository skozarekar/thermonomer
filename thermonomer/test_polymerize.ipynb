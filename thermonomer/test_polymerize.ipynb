{
 "cells": [
  {
   "cell_type": "code",
   "execution_count": 1,
   "metadata": {},
   "outputs": [],
   "source": [
    "from rdkit import Chem\n",
    "from rdkit.Chem import rdChemReactions\n",
    "from rdkit.Chem.Draw import MolsToGridImage\n",
    "import pandas as pd"
   ]
  },
  {
   "cell_type": "code",
   "execution_count": 2,
   "metadata": {},
   "outputs": [],
   "source": [
    "from rdkit import rdBase\n",
    "blocker = rdBase.BlockLogs()"
   ]
  },
  {
   "cell_type": "markdown",
   "metadata": {},
   "source": [
    "### Read in test data"
   ]
  },
  {
   "cell_type": "code",
   "execution_count": 3,
   "metadata": {},
   "outputs": [],
   "source": [
    "test_data = pd.read_csv(\"test_polymerization.csv\", index_col=None)"
   ]
  },
  {
   "cell_type": "markdown",
   "metadata": {},
   "source": [
    "#### Do polymerizations"
   ]
  },
  {
   "cell_type": "code",
   "execution_count": 4,
   "metadata": {},
   "outputs": [],
   "source": [
    "from polymerize2 import get_polymer_list"
   ]
  },
  {
   "cell_type": "code",
   "execution_count": 5,
   "metadata": {},
   "outputs": [],
   "source": [
    "mol_lists = []\n",
    "\n",
    "for _, row in test_data.iterrows():\n",
    "    try:\n",
    "        mol_list, SMILES = get_polymer_list(degree_of_polymerization=3, monomer_SMILES=row['Canonical SMILES'], polymerization_type=row['BASE_Category'], end_group=\"C\")\n",
    "        mol_lists.append(mol_list)\n",
    "    except:\n",
    "        print(f\"{row[\"Canonical SMILES\"]},{row['BASE_Category']}\")\n",
    "        mol_lists.append([])\n",
    "test_data['Mols'] = mol_lists"
   ]
  },
  {
   "cell_type": "markdown",
   "metadata": {},
   "source": [
    "### Generate PDF"
   ]
  },
  {
   "cell_type": "code",
   "execution_count": 6,
   "metadata": {},
   "outputs": [],
   "source": [
    "from rdkit import Chem\n",
    "from rdkit.Chem import Draw\n",
    "from reportlab.lib.pagesizes import letter\n",
    "from reportlab.pdfgen import canvas\n",
    "from reportlab.lib.utils import ImageReader\n",
    "import io"
   ]
  },
  {
   "cell_type": "code",
   "execution_count": 7,
   "metadata": {},
   "outputs": [],
   "source": [
    "def draw_molecules_to_pdf(mol_lists, output_filename=\"molecules.pdf\"):\n",
    "    c = canvas.Canvas(output_filename, pagesize=letter)\n",
    "    width, height = letter\n",
    "    \n",
    "    for page_num, mol_list in enumerate(mol_lists, start=1):\n",
    "        c.setFont(\"Helvetica\", 10)\n",
    "        \n",
    "        # Define positions for the molecules\n",
    "        positions = [(50, 500), (300, 500), (50, 250), (300, 250)]\n",
    "        \n",
    "        for i, mol in enumerate(mol_list):\n",
    "            if mol:\n",
    "                smiles = Chem.MolToSmiles(mol)\n",
    "                img = Draw.MolToImage(mol, size=(200, 200))\n",
    "                img_io = io.BytesIO()\n",
    "                img.save(img_io, format='PNG')\n",
    "                img_io.seek(0)\n",
    "                \n",
    "                x, y = positions[i]\n",
    "                if i == 0:\n",
    "                    c.drawString(x, y + 210, smiles)  # Draw SMILES above image\n",
    "                c.drawImage(ImageReader(img_io), x, y, width=200, height=200)\n",
    "        \n",
    "        # Add page number at the bottom\n",
    "        c.drawString(width / 2 - 20, 30, f\"Page {page_num}\")\n",
    "        c.showPage()\n",
    "    \n",
    "    c.save()\n",
    "    print(f\"PDF saved as {output_filename}\")"
   ]
  },
  {
   "cell_type": "code",
   "execution_count": 8,
   "metadata": {},
   "outputs": [
    {
     "name": "stdout",
     "output_type": "stream",
     "text": [
      "PDF saved as molecules.pdf\n"
     ]
    }
   ],
   "source": [
    "draw_molecules_to_pdf(mol_lists)"
   ]
  }
 ],
 "metadata": {
  "kernelspec": {
   "display_name": "polyenv",
   "language": "python",
   "name": "python3"
  },
  "language_info": {
   "codemirror_mode": {
    "name": "ipython",
    "version": 3
   },
   "file_extension": ".py",
   "mimetype": "text/x-python",
   "name": "python",
   "nbconvert_exporter": "python",
   "pygments_lexer": "ipython3",
   "version": "3.12.0"
  }
 },
 "nbformat": 4,
 "nbformat_minor": 2
}
